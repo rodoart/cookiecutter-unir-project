{
 "cells": [
  {
   "cell_type": "markdown",
   "source": [
    "# {{ cookiecutter.project_class }}\r\n",
    "# Actividad {{ cookiecutter.project_number }}: {{ cookiecutter.project_name }}\r\n",
    "\r\n",
    "{{ cookiecutter.project_author }}\r\n",
    "\r\n",
    "¡MUY IMPORTANTE! Este documento sólo es de referencia y sólo debe usarse en caso de que se quiera ver los códigos en su totalidad. La descripción se encuentra el en archivo .pdf y este es el sitio donde se debería calificar este trabajo."
   ],
   "metadata": {}
  }
 ],
 "metadata": {
  "orig_nbformat": 4,
  "language_info": {
   "name": "python"
  }
 },
 "nbformat": 4,
 "nbformat_minor": 2
}